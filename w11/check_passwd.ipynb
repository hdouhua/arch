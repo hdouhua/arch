{
 "metadata": {
  "language_info": {
   "codemirror_mode": {
    "name": "ipython",
    "version": 3
   },
   "file_extension": ".py",
   "mimetype": "text/x-python",
   "name": "python",
   "nbconvert_exporter": "python",
   "pygments_lexer": "ipython3",
   "version": "3.7.7-final"
  },
  "orig_nbformat": 2,
  "kernelspec": {
   "name": "python3",
   "display_name": "Python 3"
  }
 },
 "nbformat": 4,
 "nbformat_minor": 2,
 "cells": [
  {
   "cell_type": "code",
   "execution_count": 1,
   "metadata": {},
   "outputs": [],
   "source": [
    "import hmac\n",
    "import hashlib\n",
    "import os"
   ]
  },
  {
   "cell_type": "code",
   "execution_count": 13,
   "metadata": {},
   "outputs": [],
   "source": [
    "def is_null_or_empty(str1: str):\n",
    "  if str1 is None or \"\".__eq__(str1.strip()):\n",
    "    return True\n",
    "  else:\n",
    "    return False\n",
    "\n",
    "def checkPW(user_id, passwd, cipher):\n",
    "  if is_null_or_empty(user_id) or is_null_or_empty(passwd):\n",
    "    return False\n",
    "\n",
    "  hashed = hmac.new(user_id.strip().encode('utf-8'), passwd.strip().encode('utf-8'), hashlib.sha256)\n",
    "  sig = hashed.hexdigest()\n",
    "  # print(sig, hmac.compare_digest(sig, cipher))\n",
    "  return hmac.compare_digest(sig, cipher)"
   ]
  },
  {
   "cell_type": "code",
   "execution_count": 14,
   "metadata": {
    "tags": []
   },
   "outputs": [
    {
     "output_type": "stream",
     "name": "stdout",
     "text": "hdouhua login in: True\nhdouhua login in: False\nhdouhua login in: False\n"
    }
   ],
   "source": [
    "user_id = 'hdouhua'\n",
    "passwd = 'Hello, World!'\n",
    "cipher = '60143497aab5c3a6d50252fa31a9a13233ff70578c6e07143dadd4c9be4af697'\n",
    "\n",
    "print(f'{user_id} login in: {checkPW(user_id, passwd, cipher)}')\n",
    "\n",
    "incorrect_passwd = 'Hello,World!'\n",
    "print(f'{user_id} login in: {checkPW(user_id, incorrect_passwd, cipher)}')\n",
    "\n",
    "incorrect_passwd = '   '\n",
    "print(f'{user_id} login in: {checkPW(user_id, incorrect_passwd, cipher)}')"
   ]
  },
  {
   "cell_type": "code",
   "execution_count": 2,
   "metadata": {},
   "outputs": [],
   "source": [
    "def checkPW(user_id, passwd, cipher):\n",
    "  hashed = hmac.new(user_id.encode('utf-8'), passwd.encode('utf-8'), hashlib.md5)\n",
    "  str = hashed.hexdigest()\n",
    "  result = hmac.compare_digest(str, cipher)"
   ]
  },
  {
   "cell_type": "code",
   "execution_count": 3,
   "metadata": {
    "tags": []
   },
   "outputs": [
    {
     "output_type": "stream",
     "name": "stdout",
     "text": "4.95 µs ± 113 ns per loop (mean ± std. dev. of 7 runs, 100000 loops each)\n"
    }
   ],
   "source": [
    "%%timeit\n",
    "checkPW('key', 'Hello, World!', 'cfad9d610c1e548a03562f8eac399033')"
   ]
  },
  {
   "cell_type": "code",
   "execution_count": 4,
   "metadata": {},
   "outputs": [],
   "source": [
    "def checkPW2(user_id, passwd, cipher):\n",
    "  hashed = hmac.new(user_id.encode('utf-8'), passwd.encode('utf-8'), hashlib.sha256)\n",
    "  str = hashed.hexdigest()\n",
    "  result = hmac.compare_digest(str, cipher)"
   ]
  },
  {
   "cell_type": "code",
   "execution_count": 5,
   "metadata": {
    "tags": []
   },
   "outputs": [
    {
     "output_type": "stream",
     "name": "stdout",
     "text": "5.49 µs ± 133 ns per loop (mean ± std. dev. of 7 runs, 100000 loops each)\n"
    }
   ],
   "source": [
    "%%timeit\n",
    "checkPW2('key', 'Hello, World!', '7f424e2d0ff6bd5dec626e0102755bafec91c3510f19739a4eaec8f3bc3a01a4')"
   ]
  },
  {
   "cell_type": "code",
   "execution_count": 6,
   "metadata": {},
   "outputs": [],
   "source": [
    "def checkPW3(user_id, passwd: str, cipher, salt):\n",
    "  hashed = hashlib.pbkdf2_hmac('sha256', passwd.encode('utf-8'), salt, 100000)\n",
    "  str = hashed.hex()\n",
    "  result = hmac.compare_digest(str, cipher)"
   ]
  },
  {
   "cell_type": "code",
   "execution_count": 7,
   "metadata": {},
   "outputs": [],
   "source": [
    "salt = os.urandom(16)"
   ]
  },
  {
   "cell_type": "code",
   "execution_count": 8,
   "metadata": {
    "tags": []
   },
   "outputs": [
    {
     "output_type": "stream",
     "name": "stdout",
     "text": "46.3 ms ± 1.19 ms per loop (mean ± std. dev. of 7 runs, 10 loops each)\n"
    }
   ],
   "source": [
    "%%timeit\n",
    "checkPW3('key', 'Hello, World!', 'c63364af6bc106f09ff29ffcc4209fa08e3423450baf5b57f5e310b38f80fce7', salt)"
   ]
  },
  {
   "cell_type": "code",
   "execution_count": 9,
   "metadata": {
    "tags": []
   },
   "outputs": [],
   "source": [
    "def is_null_or_empty(str1: str):\n",
    "    if str1 is None or \"\".__eq__(str1.strip()):\n",
    "        return True\n",
    "    else:\n",
    "        return False"
   ]
  },
  {
   "cell_type": "code",
   "execution_count": 10,
   "metadata": {
    "tags": []
   },
   "outputs": [
    {
     "output_type": "execute_result",
     "data": {
      "text/plain": "True"
     },
     "metadata": {},
     "execution_count": 10
    }
   ],
   "source": [
    "is_null_or_empty(' ')"
   ]
  },
  {
   "cell_type": "code",
   "execution_count": 11,
   "metadata": {},
   "outputs": [
    {
     "output_type": "execute_result",
     "data": {
      "text/plain": "False"
     },
     "metadata": {},
     "execution_count": 11
    }
   ],
   "source": [
    "bool('')"
   ]
  },
  {
   "cell_type": "code",
   "execution_count": 12,
   "metadata": {},
   "outputs": [
    {
     "output_type": "execute_result",
     "data": {
      "text/plain": "True"
     },
     "metadata": {},
     "execution_count": 12
    }
   ],
   "source": [
    "bool(' ')"
   ]
  }
 ]
}